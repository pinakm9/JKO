{
 "cells": [
  {
   "cell_type": "code",
   "execution_count": 1,
   "id": "greater-liberia",
   "metadata": {},
   "outputs": [
    {
     "ename": "ModuleNotFoundError",
     "evalue": "No module named 'jko_solver'",
     "output_type": "error",
     "traceback": [
      "\u001b[1;31m---------------------------------------------------------------------------\u001b[0m",
      "\u001b[1;31mModuleNotFoundError\u001b[0m                       Traceback (most recent call last)",
      "\u001b[1;32m<ipython-input-1-8be888e0cb75>\u001b[0m in \u001b[0;36m<module>\u001b[1;34m\u001b[0m\n\u001b[0;32m      8\u001b[0m \u001b[1;32mimport\u001b[0m \u001b[0mscipy\u001b[0m\u001b[1;33m.\u001b[0m\u001b[0mstats\u001b[0m \u001b[1;32mas\u001b[0m \u001b[0mss\u001b[0m\u001b[1;33m\u001b[0m\u001b[1;33m\u001b[0m\u001b[0m\n\u001b[0;32m      9\u001b[0m \u001b[1;32mfrom\u001b[0m \u001b[0mcustom_dists\u001b[0m \u001b[1;32mimport\u001b[0m \u001b[0mgaussian_circle\u001b[0m \u001b[1;32mas\u001b[0m \u001b[0mgc\u001b[0m\u001b[1;33m\u001b[0m\u001b[1;33m\u001b[0m\u001b[0m\n\u001b[1;32m---> 10\u001b[1;33m \u001b[1;32mfrom\u001b[0m \u001b[0mmodules\u001b[0m \u001b[1;32mimport\u001b[0m \u001b[0mjko_lstm\u001b[0m \u001b[1;32mas\u001b[0m \u001b[0mlstm\u001b[0m\u001b[1;33m\u001b[0m\u001b[1;33m\u001b[0m\u001b[0m\n\u001b[0m",
      "\u001b[1;32m~\\Documents\\GitHub\\JKO\\modules\\jko_lstm.py\u001b[0m in \u001b[0;36m<module>\u001b[1;34m\u001b[0m\n\u001b[0;32m      1\u001b[0m \u001b[1;32mimport\u001b[0m \u001b[0mtensorflow\u001b[0m \u001b[1;32mas\u001b[0m \u001b[0mtf\u001b[0m\u001b[1;33m\u001b[0m\u001b[1;33m\u001b[0m\u001b[0m\n\u001b[1;32m----> 2\u001b[1;33m \u001b[1;32mimport\u001b[0m \u001b[0mjko_solver\u001b[0m \u001b[1;32mas\u001b[0m \u001b[0mjko\u001b[0m\u001b[1;33m\u001b[0m\u001b[1;33m\u001b[0m\u001b[0m\n\u001b[0m\u001b[0;32m      3\u001b[0m \u001b[1;33m\u001b[0m\u001b[0m\n\u001b[0;32m      4\u001b[0m \u001b[1;33m\u001b[0m\u001b[0m\n\u001b[0;32m      5\u001b[0m \u001b[1;32mclass\u001b[0m \u001b[0mLSTMForgetBlock\u001b[0m\u001b[1;33m(\u001b[0m\u001b[0mtf\u001b[0m\u001b[1;33m.\u001b[0m\u001b[0mkeras\u001b[0m\u001b[1;33m.\u001b[0m\u001b[0mlayers\u001b[0m\u001b[1;33m.\u001b[0m\u001b[0mLayer\u001b[0m\u001b[1;33m)\u001b[0m\u001b[1;33m:\u001b[0m\u001b[1;33m\u001b[0m\u001b[1;33m\u001b[0m\u001b[0m\n",
      "\u001b[1;31mModuleNotFoundError\u001b[0m: No module named 'jko_solver'"
     ]
    }
   ],
   "source": [
    "# add modules to Python's search path\n",
    "import os\n",
    "import sys\n",
    "module_path = os.path.abspath(os.path.join('..'))\n",
    "if module_path not in sys.path:\n",
    "    sys.path.append(module_path)\n",
    "import numpy as np\n",
    "import scipy.stats as ss\n",
    "from custom_dists import gaussian_circle as gc\n",
    "from modules import jko_lstm as lstm"
   ]
  },
  {
   "cell_type": "code",
   "execution_count": 7,
   "id": "fitted-belly",
   "metadata": {},
   "outputs": [
    {
     "name": "stdout",
     "output_type": "stream",
     "text": [
      "0.98727655532343\n"
     ]
    }
   ],
   "source": [
    "dimension = 1\n",
    "loc = 0.0\n",
    "scale = 1.0\n",
    "loc_i = loc + 1\n",
    "scale_i = 2 * scale \n",
    "samples = np.random.normal(loc_i, scale_i, size=100)\n",
    "pdf = ss.norm.pdf(samples, loc, scale)\n",
    "pdf_i = ss.norm.pdf(samples, loc_i, scale_i)\n",
    "print(np.mean(pdf/pdf_i))"
   ]
  },
  {
   "cell_type": "code",
   "execution_count": 7,
   "id": "verbal-guest",
   "metadata": {},
   "outputs": [
    {
     "name": "stdout",
     "output_type": "stream",
     "text": [
      "0.9583828798943225\n"
     ]
    }
   ],
   "source": [
    "dimension = 2\n",
    "mean = np.zeros(dimension)\n",
    "cov = np.identity(dimension)\n",
    "mean_i = mean + 1\n",
    "cov_i = 2 * cov \n",
    "samples = np.random.multivariate_normal(mean_i, cov_i, size=200)\n",
    "pdf = ss.multivariate_normal.pdf(samples, mean, cov)\n",
    "pdf_i = ss.multivariate_normal.pdf(samples, mean_i, cov_i)\n",
    "print(np.mean(pdf/pdf_i))"
   ]
  },
  {
   "cell_type": "code",
   "execution_count": 8,
   "id": "portable-lesson",
   "metadata": {},
   "outputs": [
    {
     "name": "stdout",
     "output_type": "stream",
     "text": [
      "0.9593540864688799\n"
     ]
    }
   ],
   "source": [
    "rv = gc.GaussianCircle(cov, np.ones(10))\n",
    "print(np.mean(rv.pdf(samples) / pdf_i))"
   ]
  },
  {
   "cell_type": "code",
   "execution_count": 12,
   "id": "subsequent-consortium",
   "metadata": {},
   "outputs": [
    {
     "name": "stdout",
     "output_type": "stream",
     "text": [
      "1.0063388888173534\n"
     ]
    }
   ],
   "source": [
    "rv_samples = rv.sample(200)\n",
    "pdf_rv = rv.pdf(rv_samples)\n",
    "pdf = ss.multivariate_normal.pdf(rv_samples, mean, cov)\n",
    "print(np.mean(pdf/pdf_rv))"
   ]
  },
  {
   "cell_type": "code",
   "execution_count": null,
   "id": "behind-emphasis",
   "metadata": {},
   "outputs": [],
   "source": []
  }
 ],
 "metadata": {
  "kernelspec": {
   "display_name": "Python 3",
   "language": "python",
   "name": "python3"
  },
  "language_info": {
   "codemirror_mode": {
    "name": "ipython",
    "version": 3
   },
   "file_extension": ".py",
   "mimetype": "text/x-python",
   "name": "python",
   "nbconvert_exporter": "python",
   "pygments_lexer": "ipython3",
   "version": "3.8.3"
  }
 },
 "nbformat": 4,
 "nbformat_minor": 5
}
