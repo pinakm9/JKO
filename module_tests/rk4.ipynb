{
 "cells": [
  {
   "cell_type": "code",
   "execution_count": 1,
   "id": "living-casting",
   "metadata": {},
   "outputs": [],
   "source": [
    "import tensorflow as tf\n",
    "import numpy as np"
   ]
  },
  {
   "cell_type": "code",
   "execution_count": 2,
   "id": "worthy-cyprus",
   "metadata": {},
   "outputs": [],
   "source": [
    "def f(x, y):\n",
    "    return x**2 + 2.0*y**2"
   ]
  },
  {
   "cell_type": "code",
   "execution_count": 12,
   "id": "protected-affiliate",
   "metadata": {},
   "outputs": [],
   "source": [
    "class DiffOp(tf.keras.layers.Layer):\n",
    "    def __init__(self, func):\n",
    "        super().__init__(name='DiffOp', dtype=tf.float32)\n",
    "        self.func = func\n",
    "    \n",
    "    def call(self, x, y):\n",
    "        r2 = x*x + y*y\n",
    "        z = 4.0*(r2 - 1.0)\n",
    "        with tf.GradientTape() as outer_x, tf.GradientTape() as outer_y:\n",
    "            outer_x.watch(x)\n",
    "            outer_y.watch(y)\n",
    "            with tf.GradientTape() as inner:\n",
    "                inner.watch([x, y])\n",
    "                f_ = self.func(x, y)\n",
    "            grad = inner.gradient(f_, [x, y])\n",
    "            f_x = grad[0]\n",
    "            f_y = grad[1]\n",
    "        f_xx = outer_x.gradient(f_x, x)\n",
    "        f_yy = outer_y.gradient(f_y, y)\n",
    "        a = (x*z) * f_x\n",
    "        b = (y*z) * f_y\n",
    "        c = 4.0 * (z + 2.0) * f_\n",
    "        return (f_xx + f_yy) / 200.0"
   ]
  },
  {
   "cell_type": "code",
   "execution_count": 13,
   "id": "inclusive-apparel",
   "metadata": {},
   "outputs": [],
   "source": [
    "Lf = DiffOp(f)"
   ]
  },
  {
   "cell_type": "code",
   "execution_count": 14,
   "id": "pacific-responsibility",
   "metadata": {},
   "outputs": [],
   "source": [
    "x = tf.constant([[1.], [3.]], dtype=tf.float32)\n",
    "y = tf.constant([[2.], [4.]], dtype=tf.float32)"
   ]
  },
  {
   "cell_type": "code",
   "execution_count": 15,
   "id": "coordinated-sunday",
   "metadata": {},
   "outputs": [
    {
     "data": {
      "text/plain": [
       "<tf.Tensor: shape=(2, 1), dtype=float32, numpy=\n",
       "array([[0.03],\n",
       "       [0.03]], dtype=float32)>"
      ]
     },
     "execution_count": 15,
     "metadata": {},
     "output_type": "execute_result"
    }
   ],
   "source": [
    "Lf(x, y)"
   ]
  },
  {
   "cell_type": "code",
   "execution_count": 16,
   "id": "threatened-estonia",
   "metadata": {},
   "outputs": [
    {
     "data": {
      "text/plain": [
       "<tf.Tensor: shape=(2, 1), dtype=float32, numpy=\n",
       "array([[-0.],\n",
       "       [-0.]], dtype=float32)>"
      ]
     },
     "execution_count": 16,
     "metadata": {},
     "output_type": "execute_result"
    }
   ],
   "source": [
    "LLf = DiffOp(Lf)\n",
    "LLf(x, y)"
   ]
  },
  {
   "cell_type": "code",
   "execution_count": 17,
   "id": "mounted-planner",
   "metadata": {},
   "outputs": [
    {
     "data": {
      "text/plain": [
       "<tf.Tensor: shape=(2, 1), dtype=float32, numpy=\n",
       "array([[-0.],\n",
       "       [-0.]], dtype=float32)>"
      ]
     },
     "execution_count": 17,
     "metadata": {},
     "output_type": "execute_result"
    }
   ],
   "source": [
    "LLLf = DiffOp(LLf)\n",
    "LLf(x, y)"
   ]
  },
  {
   "cell_type": "code",
   "execution_count": null,
   "id": "silent-shower",
   "metadata": {},
   "outputs": [],
   "source": []
  }
 ],
 "metadata": {
  "kernelspec": {
   "display_name": "Python 3",
   "language": "python",
   "name": "python3"
  },
  "language_info": {
   "codemirror_mode": {
    "name": "ipython",
    "version": 3
   },
   "file_extension": ".py",
   "mimetype": "text/x-python",
   "name": "python",
   "nbconvert_exporter": "python",
   "pygments_lexer": "ipython3",
   "version": "3.8.3"
  }
 },
 "nbformat": 4,
 "nbformat_minor": 5
}
