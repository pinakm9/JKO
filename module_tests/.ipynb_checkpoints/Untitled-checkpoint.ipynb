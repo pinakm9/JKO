{
 "cells": [
  {
   "cell_type": "code",
   "execution_count": 2,
   "id": "greater-liberia",
   "metadata": {},
   "outputs": [],
   "source": [
    "# add modules to Python's search path\n",
    "import os\n",
    "import sys\n",
    "module_path = os.path.abspath(os.path.join('..'))\n",
    "if module_path not in sys.path:\n",
    "    sys.path.append(module_path)\n",
    "import numpy as np\n",
    "import scipy.stats as ss\n",
    "from custom_dists import gaussian_circle as gc"
   ]
  },
  {
   "cell_type": "code",
   "execution_count": 7,
   "id": "fitted-belly",
   "metadata": {},
   "outputs": [
    {
     "name": "stdout",
     "output_type": "stream",
     "text": [
      "0.98727655532343\n"
     ]
    }
   ],
   "source": [
    "dimension = 1\n",
    "loc = 0.0\n",
    "scale = 1.0\n",
    "loc_i = loc + 1\n",
    "scale_i = 2 * scale \n",
    "samples = np.random.normal(loc_i, scale_i, size=100)\n",
    "pdf = ss.norm.pdf(samples, loc, scale)\n",
    "pdf_i = ss.norm.pdf(samples, loc_i, scale_i)\n",
    "print(np.mean(pdf/pdf_i))"
   ]
  },
  {
   "cell_type": "code",
   "execution_count": 7,
   "id": "verbal-guest",
   "metadata": {},
   "outputs": [
    {
     "name": "stdout",
     "output_type": "stream",
     "text": [
      "0.9583828798943225\n"
     ]
    }
   ],
   "source": [
    "dimension = 2\n",
    "mean = np.zeros(dimension)\n",
    "cov = np.identity(dimension)\n",
    "mean_i = mean + 1\n",
    "cov_i = 2 * cov \n",
    "samples = np.random.multivariate_normal(mean_i, cov_i, size=200)\n",
    "pdf = ss.multivariate_normal.pdf(samples, mean, cov)\n",
    "pdf_i = ss.multivariate_normal.pdf(samples, mean_i, cov_i)\n",
    "print(np.mean(pdf/pdf_i))"
   ]
  },
  {
   "cell_type": "code",
   "execution_count": 8,
   "id": "portable-lesson",
   "metadata": {},
   "outputs": [
    {
     "name": "stdout",
     "output_type": "stream",
     "text": [
      "0.9593540864688799\n"
     ]
    }
   ],
   "source": [
    "rv = gc.GaussianCircle(cov, np.ones(10))\n",
    "print(np.mean(rv.pdf(samples) / pdf_i))"
   ]
  },
  {
   "cell_type": "code",
   "execution_count": 12,
   "id": "subsequent-consortium",
   "metadata": {},
   "outputs": [
    {
     "name": "stdout",
     "output_type": "stream",
     "text": [
      "1.0063388888173534\n"
     ]
    }
   ],
   "source": [
    "rv_samples = rv.sample(200)\n",
    "pdf_rv = rv.pdf(rv_samples)\n",
    "pdf = ss.multivariate_normal.pdf(rv_samples, mean, cov)\n",
    "print(np.mean(pdf/pdf_rv))"
   ]
  },
  {
   "cell_type": "code",
   "execution_count": null,
   "id": "behind-emphasis",
   "metadata": {},
   "outputs": [],
   "source": []
  }
 ],
 "metadata": {
  "kernelspec": {
   "display_name": "Python 3",
   "language": "python",
   "name": "python3"
  },
  "language_info": {
   "codemirror_mode": {
    "name": "ipython",
    "version": 3
   },
   "file_extension": ".py",
   "mimetype": "text/x-python",
   "name": "python",
   "nbconvert_exporter": "python",
   "pygments_lexer": "ipython3",
   "version": "3.8.3"
  }
 },
 "nbformat": 4,
 "nbformat_minor": 5
}
